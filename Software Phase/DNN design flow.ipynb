{
 "cells": [
  {
   "cell_type": "code",
   "execution_count": 1,
   "metadata": {},
   "outputs": [],
   "source": [
    "#---------------------------------------------------------------------------\n",
    "#                ___________\n",
    "#    ______     /   ____    ____      _          ______\n",
    "#   |  ____|   /   /    INRS    \\    | |        |  ____|\n",
    "#   | |       /   /     Edge     \\   | |        | |\n",
    "#   | |____  /   /    Computing   \\  | |        | |____\n",
    "#   |  ____| \\   \\  Communication /  | |        |  ____|   \n",
    "#   | |       \\   \\   Learning   /   | |        | |\n",
    "#   | |____    \\   \\_____LAB____/    | |_____   | |____\n",
    "#   |______|    \\ ___________        |_______|  |______|\n",
    "#\n",
    "#  Edge Computing, Communication and Learning Lab - INRS University\n",
    "#\n",
    "#  Author: Mobin Vaziri\n",
    "#\n",
    "#  Project: HENNC\n",
    "#  \n",
    "#  Creation Date: 2023-07-08\n",
    "#\n",
    "#  Description:  \n",
    "#---------------------------------------------------------------------------"
   ]
  },
  {
   "cell_type": "code",
   "execution_count": 2,
   "metadata": {},
   "outputs": [],
   "source": [
    "from sklearn.preprocessing import normalize\n",
    "from matplotlib import pyplot as plt\n",
    "from scipy.integrate import odeint\n",
    "from tensorflow import keras\n",
    "from keras.models import Sequential\n",
    "from keras.models import load_model\n",
    "from keras.utils import np_utils\n",
    "from keras.layers.core import Dense, Activation\n",
    "import numpy as np\n",
    "import sklearn\n",
    "import sklearn.metrics as metrics"
   ]
  },
  {
   "cell_type": "code",
   "execution_count": 3,
   "metadata": {},
   "outputs": [],
   "source": [
    "a, b, c, d = 25, 33, 11, 6       # Constants\n",
    "x_0, y_0, z_0 = 1.2, 0.6, 1.8    # Initial Conditions\n",
    "\n",
    "\n",
    "def chaotic_system (X, t, a, b, c, d):\n",
    "    \n",
    "    x, y, z = X\n",
    "    \n",
    "    dxdt = a * (y - x) + (30 * y * z)\n",
    "    dydt = (b * x) + (c * y) - (x * z)\n",
    "    dzdt = (0.5 * x * z) - (d * z) + (x ** 2)\n",
    "    \n",
    "    return (dxdt, dydt, dzdt)"
   ]
  },
  {
   "cell_type": "code",
   "execution_count": 4,
   "metadata": {},
   "outputs": [],
   "source": [
    "def solve_equation (img_h, img_w):\n",
    "    \n",
    "    Tot = (img_h * img_w)\n",
    "    \n",
    "    \n",
    "    x = np.array ((img_h, img_w))\n",
    "    y = np.array ((img_h, img_w))\n",
    "    z = np.array ((img_h, img_w))\n",
    "    \n",
    "    tmax = 100\n",
    "    t = np.linspace (0, tmax, Tot)\n",
    "    f = odeint (chaotic_system, (x_0, y_0, z_0), t, args = (a, b, c, d))\n",
    "    \n",
    "    x, y, z = f.T\n",
    "    \n",
    "    x = x[:(Tot)]\n",
    "    y = y[:(Tot)]\n",
    "    z = z[:(Tot)]\n",
    "    \n",
    "    return (x, y, z)"
   ]
  },
  {
   "cell_type": "code",
   "execution_count": 5,
   "metadata": {},
   "outputs": [],
   "source": [
    "def load_dataset (h: int, w: int):\n",
    "    \n",
    "    t_x, t_y, t_z = solve_equation (h + 1, w + 1)\n",
    "    \n",
    "    inp_x = t_x [0 : (h * w)]\n",
    "    inp_y = t_y [0 : (h * w)]\n",
    "    inp_z = t_z [0 : (h * w)]\n",
    "\n",
    "    out_x = t_x [1 : ((h * w) + 1)]\n",
    "    out_y = t_y [1 : ((h * w) + 1)]\n",
    "    out_z = t_z [1 : ((h * w) + 1)]\n",
    "    \n",
    "    x = np.column_stack((inp_x,inp_y,inp_z))\n",
    "    y = np.column_stack((out_x,out_y,out_z))\n",
    "    \n",
    "    return (x, y)"
   ]
  },
  {
   "cell_type": "code",
   "execution_count": 6,
   "metadata": {},
   "outputs": [
    {
     "name": "stdout",
     "output_type": "stream",
     "text": [
      "(262144, 3)\n",
      "(262144, 3)\n"
     ]
    }
   ],
   "source": [
    "training_data, target_data = load_dataset (512, 512)\n",
    "\n",
    "print(training_data.shape)\n",
    "print(target_data.shape)"
   ]
  },
  {
   "cell_type": "code",
   "execution_count": 7,
   "metadata": {},
   "outputs": [
    {
     "name": "stdout",
     "output_type": "stream",
     "text": [
      "Model: \"sequential\"\n",
      "_________________________________________________________________\n",
      " Layer (type)                Output Shape              Param #   \n",
      "=================================================================\n",
      " dense (Dense)               (None, 8)                 32        \n",
      "                                                                 \n",
      " activation (Activation)     (None, 8)                 0         \n",
      "                                                                 \n",
      " dense_1 (Dense)             (None, 3)                 27        \n",
      "                                                                 \n",
      " activation_1 (Activation)   (None, 3)                 0         \n",
      "                                                                 \n",
      "=================================================================\n",
      "Total params: 59\n",
      "Trainable params: 59\n",
      "Non-trainable params: 0\n",
      "_________________________________________________________________\n"
     ]
    }
   ],
   "source": [
    "training_data_normalize = normalize (training_data)\n",
    "target_data_normalize = normalize (target_data)\n",
    "\n",
    "model = Sequential()\n",
    "  \n",
    "model.add(Dense(8, input_dim = 3))\n",
    "model.add(Activation('relu'))\n",
    "\n",
    "model.add(Dense(3))\n",
    "model.add(Activation('linear'))\n",
    "\n",
    "model.compile(loss = 'mean_absolute_error', optimizer = 'adam', metrics = ['accuracy'])\n",
    "\n",
    "model.summary()"
   ]
  },
  {
   "cell_type": "code",
   "execution_count": 8,
   "metadata": {},
   "outputs": [],
   "source": [
    "#history = model.fit(training_data_normalize, target_data_normalize, epochs = 5, validation_split = 0.2, batch_size = 100)"
   ]
  },
  {
   "cell_type": "code",
   "execution_count": 9,
   "metadata": {},
   "outputs": [],
   "source": [
    "trained_model = load_model(\"my_model.h5\", compile=False)"
   ]
  },
  {
   "cell_type": "code",
   "execution_count": 10,
   "metadata": {},
   "outputs": [
    {
     "name": "stdout",
     "output_type": "stream",
     "text": [
      "8192/8192 [==============================] - 10s 919us/step\n"
     ]
    }
   ],
   "source": [
    "output = trained_model.predict(training_data_normalize)"
   ]
  },
  {
   "cell_type": "code",
   "execution_count": 11,
   "metadata": {},
   "outputs": [
    {
     "name": "stdout",
     "output_type": "stream",
     "text": [
      "MAE:  0.004101541125328822\n",
      "MSE:  9.203218682840582e-05\n",
      "RMSE:  0.009593340754315246\n",
      "R-SQUARED:  0.9950916918858299\n"
     ]
    }
   ],
   "source": [
    "mae = metrics.mean_absolute_error (target_data_normalize, output)\n",
    "mse = metrics.mean_squared_error(target_data_normalize, output)\n",
    "rmse = np.sqrt(mse)\n",
    "r2 = metrics.r2_score(target_data_normalize, output)\n",
    "\n",
    "print(\"MAE: \", mae)\n",
    "print(\"MSE: \", mse)\n",
    "print(\"RMSE: \", rmse)\n",
    "print(\"R-SQUARED: \", r2)"
   ]
  },
  {
   "cell_type": "code",
   "execution_count": 12,
   "metadata": {},
   "outputs": [
    {
     "name": "stdout",
     "output_type": "stream",
     "text": [
      "Shape of w_1 is (3, 8), w_2 is (8, 3), b_1 is (8,), and b_2 is (3,)\n"
     ]
    }
   ],
   "source": [
    "w_l1 = trained_model.layers[0].get_weights()[0]\n",
    "b_l1 = trained_model.layers[0].get_weights()[1]\n",
    "\n",
    "w_l2 = trained_model.layers[2].get_weights()[0]\n",
    "b_l2 = trained_model.layers[2].get_weights()[1]\n",
    "\n",
    "w_1 = list()\n",
    "b_1 = list()\n",
    "\n",
    "w_2 = list()\n",
    "b_2 = list()\n",
    "\n",
    "for r in range (0, w_l1.shape[0]):\n",
    "    for c in range (0, w_l1.shape[1]):\n",
    "        \n",
    "        w_1.append(w_l1[r][c])\n",
    "\n",
    "w_1 = np.array(w_1)\n",
    "\n",
    "w_1 = w_1.reshape((w_l1.shape[0],w_l1.shape[1]))\n",
    "\n",
    "\n",
    "for r in range (0, w_l2.shape[0]):\n",
    "    for c in range (0, w_l2.shape[1]):\n",
    "        \n",
    "        w_2.append(w_l2[r][c])\n",
    "\n",
    "w_2 = np.array(w_2)\n",
    "\n",
    "w_2 = w_2.reshape((w_l2.shape[0],w_l2.shape[1]))\n",
    "\n",
    "\n",
    "for i in range (0, b_l1.shape[0]):\n",
    "    \n",
    "    b_1.append(b_l1[i])\n",
    "    \n",
    "b_1 = np.array(b_1)\n",
    "\n",
    "b_1 = b_1.reshape(b_l1.shape[0])\n",
    "\n",
    "\n",
    "for i in range (0, b_l2.shape[0]):\n",
    "    \n",
    "    b_2.append(b_l2[i])\n",
    "    \n",
    "b_2 = np.array(b_2)\n",
    "\n",
    "b_2 = b_2.reshape(b_l2.shape[0])\n",
    "\n",
    "print(\"Shape of w_1 is {}, w_2 is {}, b_1 is {}, and b_2 is {}\" .format(w_1.shape, w_2.shape, b_1.shape, b_2.shape))\n",
    "\n",
    "np.savetxt('w_1.txt', w_1, delimiter=' ', fmt=\"%s\")\n",
    "np.savetxt('w_2.txt', w_2, delimiter=' ', fmt=\"%s\")\n",
    "np.savetxt('b_1.txt', b_1, delimiter=' ', fmt=\"%s\")\n",
    "np.savetxt('b_2.txt', b_2, delimiter=' ', fmt=\"%s\")"
   ]
  }
 ],
 "metadata": {
  "kernelspec": {
   "display_name": "base",
   "language": "python",
   "name": "python3"
  },
  "language_info": {
   "codemirror_mode": {
    "name": "ipython",
    "version": 3
   },
   "file_extension": ".py",
   "mimetype": "text/x-python",
   "name": "python",
   "nbconvert_exporter": "python",
   "pygments_lexer": "ipython3",
   "version": "3.10.9"
  },
  "orig_nbformat": 4
 },
 "nbformat": 4,
 "nbformat_minor": 2
}
