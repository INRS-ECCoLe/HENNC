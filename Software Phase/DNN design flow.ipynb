{
 "cells": [
  {
   "cell_type": "code",
   "execution_count": 1,
   "metadata": {},
   "outputs": [],
   "source": [
    "#---------------------------------------------------------------------------\n",
    "#                ___________\n",
    "#    ______     /   ____    ____      _          ______\n",
    "#   |  ____|   /   /    INRS    \\    | |        |  ____|\n",
    "#   | |       /   /     Edge     \\   | |        | |\n",
    "#   | |____  /   /    Computing   \\  | |        | |____\n",
    "#   |  ____| \\   \\  Communication /  | |        |  ____|   \n",
    "#   | |       \\   \\   Learning   /   | |        | |\n",
    "#   | |____    \\   \\_____LAB____/    | |_____   | |____\n",
    "#   |______|    \\ ___________        |_______|  |______|\n",
    "#\n",
    "#  Edge Computing, Communication and Learning Lab - INRS University\n",
    "#\n",
    "#  Author: Mobin Vaziri\n",
    "#\n",
    "#  Project: HENNC\n",
    "#  \n",
    "#  Creation Date: 2023-07-08\n",
    "#\n",
    "#  Description:  \n",
    "#---------------------------------------------------------------------------"
   ]
  },
  {
   "cell_type": "code",
   "execution_count": 2,
   "metadata": {},
   "outputs": [],
   "source": [
    "from sklearn.preprocessing import normalize\n",
    "from matplotlib import pyplot as plt\n",
    "from scipy.integrate import odeint\n",
    "from tensorflow import keras\n",
    "from keras.models import Sequential\n",
    "from keras.models import load_model\n",
    "from keras.utils import np_utils\n",
    "from keras.layers.core import Dense, Activation\n",
    "import numpy as np\n",
    "import sklearn\n",
    "import sklearn.metrics as metrics"
   ]
  },
  {
   "cell_type": "code",
   "execution_count": 3,
   "metadata": {},
   "outputs": [],
   "source": [
    "a, b, c, d = 25, 33, 11, 6       # Constants\n",
    "x_0, y_0, z_0 = 1.2, 0.6, 1.8    # Initial Conditions\n",
    "\n",
    "\n",
    "def chaotic_system (X, t, a, b, c, d):\n",
    "    \n",
    "    x, y, z = X\n",
    "    \n",
    "    dxdt = a * (y - x) + (30 * y * z)\n",
    "    dydt = (b * x) + (c * y) - (x * z)\n",
    "    dzdt = (0.5 * x * z) - (d * z) + (x ** 2)\n",
    "    \n",
    "    return (dxdt, dydt, dzdt)"
   ]
  },
  {
   "cell_type": "code",
   "execution_count": null,
   "metadata": {},
   "outputs": [],
   "source": [
    "def solve_equation (img_h, img_w):\n",
    "    \n",
    "    Tot = (img_h * img_w)\n",
    "    \n",
    "    \n",
    "    x = np.array ((img_h, img_w))\n",
    "    y = np.array ((img_h, img_w))\n",
    "    z = np.array ((img_h, img_w))\n",
    "    \n",
    "    tmax = 100\n",
    "    t = np.linspace (0, tmax, Tot)\n",
    "    f = odeint (chaotic_system, (x_0, y_0, z_0), t, args = (a, b, c, d))\n",
    "    \n",
    "    x, y, z = f.T\n",
    "    \n",
    "    x = x[:(Tot)]\n",
    "    y = y[:(Tot)]\n",
    "    z = z[:(Tot)]\n",
    "    \n",
    "    return (x, y, z)"
   ]
  }
 ],
 "metadata": {
  "kernelspec": {
   "display_name": "base",
   "language": "python",
   "name": "python3"
  },
  "language_info": {
   "codemirror_mode": {
    "name": "ipython",
    "version": 3
   },
   "file_extension": ".py",
   "mimetype": "text/x-python",
   "name": "python",
   "nbconvert_exporter": "python",
   "pygments_lexer": "ipython3",
   "version": "3.10.9"
  },
  "orig_nbformat": 4
 },
 "nbformat": 4,
 "nbformat_minor": 2
}
